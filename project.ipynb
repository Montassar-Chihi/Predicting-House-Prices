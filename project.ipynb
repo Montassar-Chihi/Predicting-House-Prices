{
 "cells": [
  {
   "cell_type": "code",
   "execution_count": 1,
   "metadata": {},
   "outputs": [],
   "source": [
    "#import libraries\n",
    "import pandas as pd\n",
    "from sklearn.model_selection import train_test_split\n",
    "from sklearn.neighbors import KNeighborsClassifier\n",
    "from sklearn.svm import SVC\n",
    "import matplotlib.pyplot as plt\n",
    "from sklearn.metrics import classification_report,confusion_matrix"
   ]
  },
  {
   "cell_type": "code",
   "execution_count": 2,
   "metadata": {},
   "outputs": [
    {
     "name": "stdout",
     "output_type": "stream",
     "text": [
      "Accuracy of K-NN classifier on training set: 0.86\n",
      "Accuracy of K-NN classifier on test set: 0.80\n"
     ]
    }
   ],
   "source": [
    "################## KNN ###################\n",
    "#import Data\n",
    "data=pd.read_excel(\"data.xlsx\")\n",
    "Y=data[\"Type\"]\n",
    "X=data[[\"Price\",\"Surface\",\"Bedrooms\"]]\n",
    "#split data into train and test sets\n",
    "X_train, X_test, y_train, y_test = train_test_split(X, Y,random_state=0)\n",
    "#Since Knn works better on normlized data, we scale it using sklearn library\n",
    "from sklearn.preprocessing import MinMaxScaler\n",
    "scaler = MinMaxScaler()\n",
    "X_train_scaled = scaler.fit_transform(X_train) \n",
    "# we must apply the scaling to the test set that we computed for the training set\n",
    "X_test_scaled = scaler.transform(X_test)\n",
    "#build the model ( choose the k parameters )\n",
    "knn = KNeighborsClassifier(n_neighbors = 4)\n",
    "#fit the data\n",
    "knn.fit(X_train_scaled, y_train)\n",
    "#check Accuracy on both Train and Test sets\n",
    "print('Accuracy of K-NN classifier on training set: {:.2f}'\n",
    "     .format(knn.score(X_train_scaled, y_train)))\n",
    "print('Accuracy of K-NN classifier on test set: {:.2f}'\n",
    "     .format(knn.score(X_test_scaled, y_test)))"
   ]
  },
  {
   "cell_type": "code",
   "execution_count": 3,
   "metadata": {},
   "outputs": [
    {
     "name": "stdout",
     "output_type": "stream",
     "text": [
      "RBF-kernel SVC training set accuracy: 0.95\n",
      "RBF-kernel SVC test set accuracy: 0.83\n"
     ]
    }
   ],
   "source": [
    "################## SVM ###################\n",
    "''' What is SVM ?\n",
    "In machine learning, support-vector machines (SVMs, also support-vector networks) are supervised learning models with associated learning algorithms that analyze data for classification and regression analysis.\n",
    "SVMs are one of the most robust prediction methods\n",
    "In addition to performing linear classification, SVMs can efficiently perform a non-linear classification using what is called the kernel trick, implicitly mapping their inputs into high-dimensional feature spaces.\n",
    "'''\n",
    "#import Data\n",
    "data=pd.read_excel(\"data.xlsx\")\n",
    "Y=data[\"Type\"]\n",
    "X=data[[\"Price\",\"Surface\",\"Bedrooms\"]]\n",
    "#split data into train and test sets\n",
    "X_train, X_test, y_train, y_test = train_test_split(X, Y,random_state=0)\n",
    "#Since Knn works better on normlized data, we scale it using sklearn library\n",
    "from sklearn.preprocessing import MinMaxScaler\n",
    "scaler = MinMaxScaler()\n",
    "X_train_scaled = scaler.fit_transform(X_train)\n",
    "X_test_scaled = scaler.transform(X_test)\n",
    "#Build the model (C parameter is for Regularization)\n",
    "SVM = SVC(C=20)\n",
    "#Fit the Data\n",
    "SVM.fit(X_train_scaled, y_train)\n",
    "#Check accuracy on both train and test sets\n",
    "print('RBF-kernel SVC training set accuracy: {:.2f}'\n",
    "     .format(SVM.score(X_train_scaled, y_train)))\n",
    "print('RBF-kernel SVC test set accuracy: {:.2f}'\n",
    "     .format(SVM.score(X_test_scaled, y_test)))"
   ]
  },
  {
   "cell_type": "code",
   "execution_count": 4,
   "metadata": {},
   "outputs": [
    {
     "name": "stdout",
     "output_type": "stream",
     "text": [
      "[[ 0  0  7]\n",
      " [ 0  0 16]\n",
      " [ 0  0  7]]\n",
      "              precision    recall  f1-score   support\n",
      "\n",
      "           2       0.00      0.00      0.00         7\n",
      "           3       0.00      0.00      0.00        16\n",
      "           4       0.23      1.00      0.38         7\n",
      "\n",
      "    accuracy                           0.23        30\n",
      "   macro avg       0.08      0.33      0.13        30\n",
      "weighted avg       0.05      0.23      0.09        30\n",
      "\n",
      "[[ 0  0  7]\n",
      " [ 0  0 16]\n",
      " [ 0  0  7]]\n",
      "              precision    recall  f1-score   support\n",
      "\n",
      "           2       0.00      0.00      0.00         7\n",
      "           3       0.00      0.00      0.00        16\n",
      "           4       0.23      1.00      0.38         7\n",
      "\n",
      "    accuracy                           0.23        30\n",
      "   macro avg       0.08      0.33      0.13        30\n",
      "weighted avg       0.05      0.23      0.09        30\n",
      "\n"
     ]
    },
    {
     "name": "stderr",
     "output_type": "stream",
     "text": [
      "C:\\Users\\ASUS\\anaconda3\\lib\\site-packages\\sklearn\\metrics\\_classification.py:1221: UndefinedMetricWarning: Precision and F-score are ill-defined and being set to 0.0 in labels with no predicted samples. Use `zero_division` parameter to control this behavior.\n",
      "  _warn_prf(average, modifier, msg_start, len(result))\n",
      "C:\\Users\\ASUS\\anaconda3\\lib\\site-packages\\sklearn\\metrics\\_classification.py:1221: UndefinedMetricWarning: Precision and F-score are ill-defined and being set to 0.0 in labels with no predicted samples. Use `zero_division` parameter to control this behavior.\n",
      "  _warn_prf(average, modifier, msg_start, len(result))\n"
     ]
    }
   ],
   "source": [
    "################## EVALUATION ###################\n",
    "#We build the confusion matrix for SVM model\n",
    "svm_predicted = SVM.predict(X_test)\n",
    "print(confusion_matrix(y_test, svm_predicted))\n",
    "print(classification_report(y_test, svm_predicted))\n",
    "#We build the confusion matrix for KNN model\n",
    "KNN_predicted = knn.predict(X_test)\n",
    "print(confusion_matrix(y_test, KNN_predicted))\n",
    "print(classification_report(y_test, KNN_predicted))\n",
    "## We can now choose our model not only based on the accuracy like we did originally but also based on other metrics that can be as important like recall or f-1 score or precision"
   ]
  }
 ],
 "metadata": {
  "kernelspec": {
   "display_name": "Python 3",
   "language": "python",
   "name": "python3"
  },
  "language_info": {
   "codemirror_mode": {
    "name": "ipython",
    "version": 3
   },
   "file_extension": ".py",
   "mimetype": "text/x-python",
   "name": "python",
   "nbconvert_exporter": "python",
   "pygments_lexer": "ipython3",
   "version": "3.8.3"
  }
 },
 "nbformat": 4,
 "nbformat_minor": 4
}